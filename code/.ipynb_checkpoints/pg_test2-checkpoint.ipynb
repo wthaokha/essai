{
 "cells": [
  {
   "cell_type": "markdown",
   "id": "51679aee-a17a-4f68-8dbc-54a8fa97f0e9",
   "metadata": {},
   "source": [
    "### TEST2"
   ]
  },
  {
   "cell_type": "code",
   "execution_count": 3,
   "id": "96f591f9-6004-410d-ad58-e7a3b1283cb9",
   "metadata": {},
   "outputs": [],
   "source": [
    "A = [1,2,3,4,5,6]"
   ]
  },
  {
   "cell_type": "code",
   "execution_count": 4,
   "id": "3004047a-2759-4bcf-9dfb-50a4ff9b2a09",
   "metadata": {},
   "outputs": [
    {
     "data": {
      "text/plain": [
       "[1, 2, 3, 4, 5, 6, 1, 2, 3, 4, 5, 6]"
      ]
     },
     "execution_count": 4,
     "metadata": {},
     "output_type": "execute_result"
    }
   ],
   "source": [
    "2*A"
   ]
  },
  {
   "cell_type": "code",
   "execution_count": null,
   "id": "da26bc22-4430-4880-8559-38a5608362a1",
   "metadata": {},
   "outputs": [],
   "source": []
  }
 ],
 "metadata": {
  "kernelspec": {
   "display_name": "Python 3 (ipykernel)",
   "language": "python",
   "name": "python3"
  },
  "language_info": {
   "codemirror_mode": {
    "name": "ipython",
    "version": 3
   },
   "file_extension": ".py",
   "mimetype": "text/x-python",
   "name": "python",
   "nbconvert_exporter": "python",
   "pygments_lexer": "ipython3",
   "version": "3.11.4"
  }
 },
 "nbformat": 4,
 "nbformat_minor": 5
}
